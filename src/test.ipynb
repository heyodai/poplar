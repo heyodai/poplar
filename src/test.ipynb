{
 "cells": [
  {
   "cell_type": "code",
   "execution_count": 1,
   "metadata": {},
   "outputs": [
    {
     "name": "stderr",
     "output_type": "stream",
     "text": [
      "2023-06-14 15:08:59,658 - INFO - This is an info message\n",
      "2023-06-14 15:08:59,659 - ERROR - This is an error message\n",
      "2023-06-14 15:08:59,659 - WARNING - This is a warning message\n",
      "2023-06-14 15:08:59,660 - CRITICAL - This is a critical message\n"
     ]
    }
   ],
   "source": [
    "from poplar_logging import poplar\n",
    "\n",
    "poplar.info('This is an info message')\n",
    "poplar.error('This is an error message')\n",
    "poplar.debug('This is a debug message')\n",
    "poplar.warning('This is a warning message')\n",
    "poplar.critical('This is a critical message')\n",
    "\n",
    "poplar.save()"
   ]
  }
 ],
 "metadata": {
  "kernelspec": {
   "display_name": "Python 3",
   "language": "python",
   "name": "python3"
  },
  "language_info": {
   "codemirror_mode": {
    "name": "ipython",
    "version": 3
   },
   "file_extension": ".py",
   "mimetype": "text/x-python",
   "name": "python",
   "nbconvert_exporter": "python",
   "pygments_lexer": "ipython3",
   "version": "3.10.9"
  },
  "orig_nbformat": 4
 },
 "nbformat": 4,
 "nbformat_minor": 2
}
